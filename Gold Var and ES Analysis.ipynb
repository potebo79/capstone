{
 "cells": [
  {
   "cell_type": "code",
   "execution_count": 1,
   "metadata": {},
   "outputs": [],
   "source": [
    "#Data Manipulation\n",
    "import numpy as np\n",
    "import pandas as pd\n",
    "\n",
    "#Data Visualization\n",
    "import matplotlib.pyplot as plt\n",
    "import matplotlib.mlab as mlab\n",
    "import scipy\n",
    "\n",
    "# Statistical Calculation\n",
    "from scipy.stats import norm\n",
    "\n",
    "#Tabular Data Output\n",
    "#from tabulate import tabulate\n",
    "\n",
    "import warnings\n",
    "warnings.filterwarnings('ignore')"
   ]
  },
  {
   "cell_type": "code",
   "execution_count": 2,
   "metadata": {},
   "outputs": [
    {
     "data": {
      "text/html": [
       "<div>\n",
       "<style scoped>\n",
       "    .dataframe tbody tr th:only-of-type {\n",
       "        vertical-align: middle;\n",
       "    }\n",
       "\n",
       "    .dataframe tbody tr th {\n",
       "        vertical-align: top;\n",
       "    }\n",
       "\n",
       "    .dataframe thead th {\n",
       "        text-align: right;\n",
       "    }\n",
       "</style>\n",
       "<table border=\"1\" class=\"dataframe\">\n",
       "  <thead>\n",
       "    <tr style=\"text-align: right;\">\n",
       "      <th></th>\n",
       "      <th>Date</th>\n",
       "      <th>GOLD</th>\n",
       "    </tr>\n",
       "  </thead>\n",
       "  <tbody>\n",
       "    <tr>\n",
       "      <th>5</th>\n",
       "      <td>1968-04-01 00:00:00</td>\n",
       "      <td>37.7</td>\n",
       "    </tr>\n",
       "    <tr>\n",
       "      <th>6</th>\n",
       "      <td>1968-04-02 00:00:00</td>\n",
       "      <td>37.3</td>\n",
       "    </tr>\n",
       "    <tr>\n",
       "      <th>7</th>\n",
       "      <td>1968-04-03 00:00:00</td>\n",
       "      <td>37.6</td>\n",
       "    </tr>\n",
       "    <tr>\n",
       "      <th>8</th>\n",
       "      <td>1968-04-04 00:00:00</td>\n",
       "      <td>36.95</td>\n",
       "    </tr>\n",
       "    <tr>\n",
       "      <th>9</th>\n",
       "      <td>1968-04-05 00:00:00</td>\n",
       "      <td>37</td>\n",
       "    </tr>\n",
       "    <tr>\n",
       "      <th>...</th>\n",
       "      <td>...</td>\n",
       "      <td>...</td>\n",
       "    </tr>\n",
       "    <tr>\n",
       "      <th>13059</th>\n",
       "      <td>2019-11-08 00:00:00</td>\n",
       "      <td>1464.15</td>\n",
       "    </tr>\n",
       "    <tr>\n",
       "      <th>13060</th>\n",
       "      <td>2019-11-11 00:00:00</td>\n",
       "      <td>1458.7</td>\n",
       "    </tr>\n",
       "    <tr>\n",
       "      <th>13061</th>\n",
       "      <td>2019-11-12 00:00:00</td>\n",
       "      <td>1452.05</td>\n",
       "    </tr>\n",
       "    <tr>\n",
       "      <th>13062</th>\n",
       "      <td>2019-11-13 00:00:00</td>\n",
       "      <td>1462.9</td>\n",
       "    </tr>\n",
       "    <tr>\n",
       "      <th>13063</th>\n",
       "      <td>2019-11-14 00:00:00</td>\n",
       "      <td>1466.65</td>\n",
       "    </tr>\n",
       "  </tbody>\n",
       "</table>\n",
       "<p>13059 rows × 2 columns</p>\n",
       "</div>"
      ],
      "text/plain": [
       "                      Date     GOLD\n",
       "5      1968-04-01 00:00:00     37.7\n",
       "6      1968-04-02 00:00:00     37.3\n",
       "7      1968-04-03 00:00:00     37.6\n",
       "8      1968-04-04 00:00:00    36.95\n",
       "9      1968-04-05 00:00:00       37\n",
       "...                    ...      ...\n",
       "13059  2019-11-08 00:00:00  1464.15\n",
       "13060  2019-11-11 00:00:00   1458.7\n",
       "13061  2019-11-12 00:00:00  1452.05\n",
       "13062  2019-11-13 00:00:00   1462.9\n",
       "13063  2019-11-14 00:00:00  1466.65\n",
       "\n",
       "[13059 rows x 2 columns]"
      ]
     },
     "execution_count": 2,
     "metadata": {},
     "output_type": "execute_result"
    }
   ],
   "source": [
    "# Load data from excel file\n",
    "data = pd.read_excel(\"Backtest data.xlsx\")\n",
    "\n",
    "# Extract gold data\n",
    "gold_data = pd.DataFrame()\n",
    "gold_data[[\"Date\", \"GOLD\"]] = data[[\"Unnamed: 8\", \"Unnamed: 9\"]][5:]\n",
    "gold_data"
   ]
  },
  {
   "cell_type": "markdown",
   "metadata": {},
   "source": [
    "### VaR Historical Simulation approach"
   ]
  },
  {
   "cell_type": "markdown",
   "metadata": {},
   "source": [
    "### VaR 2003 - 2004"
   ]
  },
  {
   "cell_type": "code",
   "execution_count": 3,
   "metadata": {},
   "outputs": [
    {
     "data": {
      "text/plain": [
       "[<matplotlib.lines.Line2D at 0x20c68fdc1c8>]"
      ]
     },
     "execution_count": 3,
     "metadata": {},
     "output_type": "execute_result"
    },
    {
     "data": {
      "image/png": "[encoded data removed]",
      "text/plain": [
       "<Figure size 432x288 with 1 Axes>"
      ]
     },
     "metadata": {
      "needs_background": "light"
     },
     "output_type": "display_data"
    }
   ],
   "source": [
    "gold_data = gold_data.set_index('Date', drop=False)\n",
    "df_2003_2004 = gold_data.loc['2003-01-01':'2004-12-31']\n",
    "df_2003_2004['returns'] = df_2003_2004.GOLD.pct_change()\n",
    "\n",
    "\n",
    "mean = np.mean(df_2003_2004['returns'])\n",
    "std_dev = np.std(df_2003_2004['returns'])\n",
    "\n",
    "df_2003_2004['returns'].hist(bins=40, normed=True, histtype='stepfilled', alpha=0.5)\n",
    "\n",
    "x = np.linspace(mean - 3*std_dev, mean + 3*std_dev, 100)\n",
    "plt.plot(x, scipy.stats.norm.pdf(x, mean, std_dev), 'r')\n",
    "\n",
    "#plt.show()\n"
   ]
  },
  {
   "cell_type": "code",
   "execution_count": 4,
   "metadata": {},
   "outputs": [
    {
     "data": {
      "image/png": "[encoded data removed]",
      "text/plain": [
       "<Figure size 432x288 with 1 Axes>"
      ]
     },
     "metadata": {
      "needs_background": "light"
     },
     "output_type": "display_data"
    }
   ],
   "source": [
    "df_2003_2004['returns'].dropna()\n",
    "plt.hist(df_2003_2004.returns, bins=40)\n",
    "plt.xlabel('Returns')\n",
    "plt.ylabel('Frequency')\n",
    "plt.grid(True)\n",
    "plt.show()"
   ]
  },
  {
   "cell_type": "code",
   "execution_count": 5,
   "metadata": {},
   "outputs": [
    {
     "name": "stdout",
     "output_type": "stream",
     "text": [
      "Confidence_Level  Value-at-Risk\n",
      " 90% \t\t-0.012166522008633773\n",
      " 95% \t\t-0.01569177150572501\n",
      " 99% \t\t-0.02485767789921463\n"
     ]
    }
   ],
   "source": [
    "df_2003_2004.sort_values('returns', inplace=True, ascending=True)\n",
    "\n",
    "var_90 = df_2003_2004['returns'].quantile(0.1)\n",
    "var_95 = df_2003_2004['returns'].quantile(0.05)\n",
    "var_99 = df_2003_2004['returns'].quantile(0.01)\n",
    "\n",
    "#print(tabulate([['90%', var_90],['95%', var_95], ['99%', var_99]], headers=['Confidence Level', 'Value at Risk']))\n",
    "#print(([[var_90],[ var_95], [ var_99]]))\n",
    "print(\"Confidence_Level  Value-at-Risk\")\n",
    "print(f\" 90% \\t\\t{var_90}\\n 95% \\t\\t{var_95}\\n 99% \\t\\t{var_99}\")"
   ]
  },
  {
   "cell_type": "markdown",
   "metadata": {},
   "source": [
    "### VaR Variance Covariance 2003 - 2004"
   ]
  },
  {
   "cell_type": "code",
   "execution_count": 6,
   "metadata": {},
   "outputs": [
    {
     "name": "stdout",
     "output_type": "stream",
     "text": [
      "Confidence_Level  Value-at-Risk\n",
      " 90% \t\t-0.13823320973587844\n",
      " 95% \t\t-0.17914733018313364\n",
      " 99% \t\t-0.25589541578867964\n"
     ]
    }
   ],
   "source": [
    "df_2003_2004['returns'] = df_2003_2004.GOLD.pct_change()\n",
    "\n",
    "\n",
    "mean = np.mean(df_2003_2004['returns'])\n",
    "std_dev = np.std(df_2003_2004['returns'])\n",
    "\n",
    "var_90 = norm.ppf(1-0.9, mean, std_dev)\n",
    "var_95 = norm.ppf(1-0.95, mean, std_dev)\n",
    "var_99 = norm.ppf(1-0.99, mean, std_dev)\n",
    "\n",
    "#print(tabulate([['90%', var_90],['95%', var_95], ['99%', var_99]], headers=['Confidence Level', 'Value at Risk']))\n",
    "print(\"Confidence_Level  Value-at-Risk\")\n",
    "print(f\" 90% \\t\\t{var_90}\\n 95% \\t\\t{var_95}\\n 99% \\t\\t{var_99}\")"
   ]
  },
  {
   "cell_type": "markdown",
   "metadata": {},
   "source": [
    "### VaR Historical Simulation approach 2007 - 2009"
   ]
  },
  {
   "cell_type": "code",
   "execution_count": 7,
   "metadata": {},
   "outputs": [
    {
     "data": {
      "image/png": "[encoded data removed]",
      "text/plain": [
       "<Figure size 432x288 with 1 Axes>"
      ]
     },
     "metadata": {
      "needs_background": "light"
     },
     "output_type": "display_data"
    }
   ],
   "source": [
    "gold_data = gold_data.set_index('Date', drop=False)\n",
    "df_2007_2009 = gold_data.loc['2007-01-01':'2009-12-31']\n",
    "df_2007_2009['returns'] = df_2007_2009.GOLD.pct_change()\n",
    "\n",
    "\n",
    "mean = np.mean(df_2007_2009['returns'])\n",
    "std_dev = np.std(df_2007_2009['returns'])\n",
    "\n",
    "df_2007_2009['returns'].hist(bins=40, normed=True, histtype='stepfilled', alpha=0.5)\n",
    "\n",
    "x = np.linspace(mean - 3*std_dev, mean + 3*std_dev, 100)\n",
    "plt.plot(x, scipy.stats.norm.pdf(x, mean, std_dev), 'r')\n",
    "\n",
    "plt.show()"
   ]
  },
  {
   "cell_type": "code",
   "execution_count": 8,
   "metadata": {},
   "outputs": [
    {
     "data": {
      "image/png": "[encoded data removed]",
      "text/plain": [
       "<Figure size 432x288 with 1 Axes>"
      ]
     },
     "metadata": {
      "needs_background": "light"
     },
     "output_type": "display_data"
    }
   ],
   "source": [
    "df_2007_2009['returns'].dropna()\n",
    "plt.hist(df_2007_2009.returns, bins=40)\n",
    "plt.xlabel('Returns')\n",
    "plt.ylabel('Frequency')\n",
    "plt.grid(True)\n",
    "plt.show()"
   ]
  },
  {
   "cell_type": "code",
   "execution_count": 9,
   "metadata": {},
   "outputs": [
    {
     "name": "stdout",
     "output_type": "stream",
     "text": [
      "Confidence_Level  Value-at-Risk\n",
      " 90% \t\t-0.016365899271178107\n",
      " 95% \t\t-0.02397482027661427\n",
      " 99% \t\t-0.040388455566088326\n"
     ]
    }
   ],
   "source": [
    "df_2007_2009.sort_values('returns', inplace=True, ascending=True)\n",
    "\n",
    "var_90 = df_2007_2009['returns'].quantile(0.1)\n",
    "var_95 = df_2007_2009['returns'].quantile(0.05)\n",
    "var_99 = df_2007_2009['returns'].quantile(0.01)\n",
    "\n",
    "#print(tabulate([['90%', var_90],['95%', var_95], ['99%', var_99]], headers=['Confidence Level', 'Value at Risk']))\n",
    "print(\"Confidence_Level  Value-at-Risk\")\n",
    "print(f\" 90% \\t\\t{var_90}\\n 95% \\t\\t{var_95}\\n 99% \\t\\t{var_99}\")"
   ]
  },
  {
   "cell_type": "markdown",
   "metadata": {},
   "source": [
    "### VaR Variance Covariance 2007 - 2009"
   ]
  },
  {
   "cell_type": "code",
   "execution_count": 10,
   "metadata": {},
   "outputs": [
    {
     "name": "stdout",
     "output_type": "stream",
     "text": [
      "Confidence_Level  Value-at-Risk\n",
      " 90% \t\t-0.2759017701882893\n",
      " 95% \t\t-0.3614561845812536\n",
      " 99% \t\t-0.5219420375822577\n"
     ]
    }
   ],
   "source": [
    "df_2007_2009['returns'] = df_2007_2009.GOLD.pct_change()\n",
    "\n",
    "\n",
    "mean = np.mean(df_2007_2009['returns'])\n",
    "std_dev = np.std(df_2007_2009['returns'])\n",
    "\n",
    "var_90 = norm.ppf(1-0.9, mean, std_dev)\n",
    "var_95 = norm.ppf(1-0.95, mean, std_dev)\n",
    "var_99 = norm.ppf(1-0.99, mean, std_dev)\n",
    "\n",
    "#print(tabulate([['90%', var_90],['95%', var_95], ['99%', var_99]], headers=['Confidence Level', 'Value at Risk']))\n",
    "print(\"Confidence_Level  Value-at-Risk\")\n",
    "print(f\" 90% \\t\\t{var_90}\\n 95% \\t\\t{var_95}\\n 99% \\t\\t{var_99}\")"
   ]
  },
  {
   "cell_type": "markdown",
   "metadata": {},
   "source": [
    "### VaR Historical Simulation approach 2018 - 2019"
   ]
  },
  {
   "cell_type": "code",
   "execution_count": 11,
   "metadata": {},
   "outputs": [
    {
     "data": {
      "image/png": "[encoded data removed]",
      "text/plain": [
       "<Figure size 432x288 with 1 Axes>"
      ]
     },
     "metadata": {
      "needs_background": "light"
     },
     "output_type": "display_data"
    }
   ],
   "source": [
    "gold_data = gold_data.set_index('Date', drop=False)\n",
    "df_2018_2019 = gold_data.loc['2018-01-01':'2019-12-31']\n",
    "df_2018_2019['returns'] = df_2018_2019.GOLD.pct_change()\n",
    "\n",
    "\n",
    "mean = np.mean(df_2018_2019['returns'])\n",
    "std_dev = np.std(df_2018_2019['returns'])\n",
    "\n",
    "df_2018_2019['returns'].hist(bins=40, normed=True, histtype='stepfilled', alpha=0.5)\n",
    "\n",
    "x = np.linspace(mean - 3*std_dev, mean + 3*std_dev, 100)\n",
    "plt.plot(x, scipy.stats.norm.pdf(x, mean, std_dev), 'r')\n",
    "\n",
    "plt.show()"
   ]
  },
  {
   "cell_type": "code",
   "execution_count": 12,
   "metadata": {},
   "outputs": [
    {
     "data": {
      "image/png": "[encoded data removed]",
      "text/plain": [
       "<Figure size 432x288 with 1 Axes>"
      ]
     },
     "metadata": {
      "needs_background": "light"
     },
     "output_type": "display_data"
    }
   ],
   "source": [
    "df_2018_2019['returns'].dropna()\n",
    "plt.hist(df_2018_2019.returns, bins=40)\n",
    "plt.xlabel('Returns')\n",
    "plt.ylabel('Frequency')\n",
    "plt.grid(True)\n",
    "plt.show()"
   ]
  },
  {
   "cell_type": "code",
   "execution_count": 13,
   "metadata": {},
   "outputs": [
    {
     "name": "stdout",
     "output_type": "stream",
     "text": [
      "Confidence_Level  Value-at-Risk\n",
      " 90% \t\t-0.0071534908418098165\n",
      " 95% \t\t-0.0093062834625806\n",
      " 99% \t\t-0.01455817934843851\n"
     ]
    }
   ],
   "source": [
    "df_2018_2019.sort_values('returns', inplace=True, ascending=True)\n",
    "\n",
    "var_90 = df_2018_2019['returns'].quantile(0.1)\n",
    "var_95 = df_2018_2019['returns'].quantile(0.05)\n",
    "var_99 = df_2018_2019['returns'].quantile(0.01)\n",
    "\n",
    "#print(tabulate([['90%', var_90],['95%', var_95], ['99%', var_99]], headers=['Confidence Level', 'Value at Risk']))\n",
    "print(\"Confidence_Level  Value-at-Risk\")\n",
    "print(f\" 90% \\t\\t{var_90}\\n 95% \\t\\t{var_95}\\n 99% \\t\\t{var_99}\")"
   ]
  },
  {
   "cell_type": "markdown",
   "metadata": {},
   "source": [
    "### VaR Variance Covariance 2018 - 2019"
   ]
  },
  {
   "cell_type": "code",
   "execution_count": 14,
   "metadata": {},
   "outputs": [
    {
     "name": "stdout",
     "output_type": "stream",
     "text": [
      "Confidence_Level  Value-at-Risk\n",
      " 90% \t\t-0.11742691218545913\n",
      " 95% \t\t-0.15200241510650186\n",
      " 99% \t\t-0.21686030839691028\n"
     ]
    }
   ],
   "source": [
    "df_2018_2019['returns'] = df_2018_2019.GOLD.pct_change()\n",
    "\n",
    "\n",
    "mean = np.mean(df_2018_2019['returns'])\n",
    "std_dev = np.std(df_2018_2019['returns'])\n",
    "\n",
    "var_90 = norm.ppf(1-0.9, mean, std_dev)\n",
    "var_95 = norm.ppf(1-0.95, mean, std_dev)\n",
    "var_99 = norm.ppf(1-0.99, mean, std_dev)\n",
    "\n",
    "#print(tabulate([['90%', var_90],['95%', var_95], ['99%', var_99]], headers=['Confidence Level', 'Value at Risk']))\n",
    "print(\"Confidence_Level  Value-at-Risk\")\n",
    "print(f\" 90% \\t\\t{var_90}\\n 95% \\t\\t{var_95}\\n 99% \\t\\t{var_99}\")"
   ]
  },
  {
   "cell_type": "markdown",
   "metadata": {},
   "source": [
    "## ES Historical Approach"
   ]
  },
  {
   "cell_type": "markdown",
   "metadata": {},
   "source": [
    "### ES 2003 - 2004"
   ]
  },
  {
   "cell_type": "code",
   "execution_count": 15,
   "metadata": {},
   "outputs": [
    {
     "name": "stdout",
     "output_type": "stream",
     "text": [
      "Confidence_Level  Expected Shortfall\n",
      " 90% \t\t-0.17745813127970067\n",
      " 95% \t\t-0.19873345247412721\n",
      " 99% \t\t-0.2306615227260168\n"
     ]
    }
   ],
   "source": [
    "Es_90 = df_2003_2004[df_2003_2004['returns'] < df_2003_2004['returns'].quantile(0.1)]['returns'].mean()\n",
    "Es_95 = df_2003_2004[df_2003_2004['returns'] < df_2003_2004['returns'].quantile(0.05)]['returns'].mean()\n",
    "Es_99 = df_2003_2004[df_2003_2004['returns'] < df_2003_2004['returns'].quantile(0.01)]['returns'].mean()\n",
    "\n",
    "#print(tabulate([['90%', Es_90],['95%', Es_95], ['99%', Es_99]], headers=['Confidence Level', 'Expected Shortfall']))\n",
    "print(\"Confidence_Level  Expected Shortfall\")\n",
    "print(f\" 90% \\t\\t{Es_90}\\n 95% \\t\\t{Es_95}\\n 99% \\t\\t{Es_99}\")"
   ]
  },
  {
   "cell_type": "markdown",
   "metadata": {},
   "source": [
    "### ES 2007 - 2009"
   ]
  },
  {
   "cell_type": "code",
   "execution_count": 16,
   "metadata": {},
   "outputs": [
    {
     "name": "stdout",
     "output_type": "stream",
     "text": [
      "Confidence_Level  Expected Shortfall\n",
      " 90% \t\t-0.3232712611440345\n",
      " 95% \t\t-0.3640696700612236\n",
      " 99% \t\t-0.4222034573109753\n"
     ]
    }
   ],
   "source": [
    "Es_90 = df_2007_2009[df_2007_2009['returns'] < df_2007_2009['returns'].quantile(0.1)]['returns'].mean()\n",
    "Es_95 = df_2007_2009[df_2007_2009['returns'] < df_2007_2009['returns'].quantile(0.05)]['returns'].mean()\n",
    "Es_99 = df_2007_2009[df_2007_2009['returns'] < df_2007_2009['returns'].quantile(0.01)]['returns'].mean()\n",
    "\n",
    "#print(tabulate([['90%', Es_90],['95%', Es_95], ['99%', Es_99]], headers=['Confidence Level', 'Expected Shortfall']))\n",
    "print(\"Confidence_Level  Expected Shortfall\")\n",
    "print(f\" 90% \\t\\t{Es_90}\\n 95% \\t\\t{Es_95}\\n 99% \\t\\t{Es_99}\")"
   ]
  },
  {
   "cell_type": "markdown",
   "metadata": {},
   "source": [
    "### ES 2018 - 2019"
   ]
  },
  {
   "cell_type": "code",
   "execution_count": 17,
   "metadata": {},
   "outputs": [
    {
     "name": "stdout",
     "output_type": "stream",
     "text": [
      "Confidence_Level  Expected Shortfall\n",
      " 90% \t\t-0.15740188186310597\n",
      " 95% \t\t-0.180918852254328\n",
      " 99% \t\t-0.20392553040785266\n"
     ]
    }
   ],
   "source": [
    "Es_90 = df_2018_2019[df_2018_2019['returns'] < df_2018_2019['returns'].quantile(0.1)]['returns'].mean()\n",
    "Es_95 = df_2018_2019[df_2018_2019['returns'] < df_2018_2019['returns'].quantile(0.05)]['returns'].mean()\n",
    "Es_99 = df_2018_2019[df_2018_2019['returns'] < df_2018_2019['returns'].quantile(0.01)]['returns'].mean()\n",
    "\n",
    "#print(tabulate([['90%', Es_90],['95%', Es_95], ['99%', Es_99]], headers=['Confidence Level', 'Expected Shortfall']))\n",
    "print(\"Confidence_Level  Expected Shortfall\")\n",
    "print(f\" 90% \\t\\t{Es_90}\\n 95% \\t\\t{Es_95}\\n 99% \\t\\t{Es_99}\")"
   ]
  },
  {
   "cell_type": "markdown",
   "metadata": {},
   "source": [
    "## ES Variance Coveriance Approach"
   ]
  },
  {
   "cell_type": "markdown",
   "metadata": {},
   "source": [
    "### ES 2003 - 2004"
   ]
  },
  {
   "cell_type": "code",
   "execution_count": 18,
   "metadata": {},
   "outputs": [
    {
     "name": "stdout",
     "output_type": "stream",
     "text": [
      "Confidence_Level  Expected Shortfall\n",
      " 90% \t\t-0.13823320973587844\n",
      " 95% \t\t-0.17914733018313364\n",
      " 99% \t\t-0.25589541578867964\n"
     ]
    }
   ],
   "source": [
    "mean = np.mean(df_2003_2004['returns'])\n",
    "std_dev = np.std(df_2003_2004['returns'])\n",
    "\n",
    "var_90 = norm.ppf(1-0.9, mean, std_dev)\n",
    "var_95 = norm.ppf(1-0.95, mean, std_dev)\n",
    "var_99 = norm.ppf(1-0.99, mean, std_dev)\n",
    "\n",
    "Es_90 = var_90.mean()\n",
    "Es_95 = var_95.mean()\n",
    "Es_99 = var_99.mean()\n",
    "\n",
    "#print(tabulate([['90%', Es_90],['95%', Es_95], ['99%', Es_99]], headers=['Confidence Level', 'Expected Shortfall']))\n",
    "print(\"Confidence_Level  Expected Shortfall\")\n",
    "print(f\" 90% \\t\\t{Es_90}\\n 95% \\t\\t{Es_95}\\n 99% \\t\\t{Es_99}\")"
   ]
  },
  {
   "cell_type": "markdown",
   "metadata": {},
   "source": [
    "### ES 2007 - 2009"
   ]
  },
  {
   "cell_type": "code",
   "execution_count": 19,
   "metadata": {},
   "outputs": [
    {
     "name": "stdout",
     "output_type": "stream",
     "text": [
      "Confidence_Level  Expected Shortfall\n",
      " 90% \t\t-0.2759017701882893\n",
      " 95% \t\t-0.3614561845812536\n",
      " 99% \t\t-0.5219420375822577\n"
     ]
    }
   ],
   "source": [
    "mean = np.mean(df_2007_2009['returns'])\n",
    "std_dev = np.std(df_2007_2009['returns'])\n",
    "\n",
    "var_90 = norm.ppf(1-0.9, mean, std_dev)\n",
    "var_95 = norm.ppf(1-0.95, mean, std_dev)\n",
    "var_99 = norm.ppf(1-0.99, mean, std_dev)\n",
    "\n",
    "Es_90 = var_90.mean()\n",
    "Es_95 = var_95.mean()\n",
    "Es_99 = var_99.mean()\n",
    "\n",
    "#print(tabulate([['90%', Es_90],['95%', Es_95], ['99%', Es_99]], headers=['Confidence Level', 'Expected Shortfall']))\n",
    "print(\"Confidence_Level  Expected Shortfall\")\n",
    "print(f\" 90% \\t\\t{Es_90}\\n 95% \\t\\t{Es_95}\\n 99% \\t\\t{Es_99}\")"
   ]
  },
  {
   "cell_type": "markdown",
   "metadata": {},
   "source": [
    "### ES 2018 - 2019"
   ]
  },
  {
   "cell_type": "code",
   "execution_count": 20,
   "metadata": {},
   "outputs": [
    {
     "name": "stdout",
     "output_type": "stream",
     "text": [
      "Confidence_Level  Expected Shortfall\n",
      " 90% \t\t-0.11742691218545913\n",
      " 95% \t\t-0.15200241510650186\n",
      " 99% \t\t-0.21686030839691028\n"
     ]
    }
   ],
   "source": [
    "mean = np.mean(df_2018_2019['returns'])\n",
    "std_dev = np.std(df_2018_2019['returns'])\n",
    "\n",
    "var_90 = norm.ppf(1-0.9, mean, std_dev)\n",
    "var_95 = norm.ppf(1-0.95, mean, std_dev)\n",
    "var_99 = norm.ppf(1-0.99, mean, std_dev)\n",
    "\n",
    "Es_90 = var_90.mean()\n",
    "Es_95 = var_95.mean()\n",
    "Es_99 = var_99.mean()\n",
    "\n",
    "#print(tabulate([['90%', Es_90],['95%', Es_95], ['99%', Es_99]], headers=['Confidence Level', 'Expected Shortfall']))\n",
    "print(\"Confidence_Level  Expected Shortfall\")\n",
    "print(f\" 90% \\t\\t{Es_90}\\n 95% \\t\\t{Es_95}\\n 99% \\t\\t{Es_99}\")"
   ]
  },
  {
   "cell_type": "code",
   "execution_count": null,
   "metadata": {},
   "outputs": [],
   "source": []
  }
 ],
 "metadata": {
  "kernelspec": {
   "display_name": "Python 3",
   "language": "python",
   "name": "python3"
  },
  "language_info": {
   "codemirror_mode": {
    "name": "ipython",
    "version": 3
   },
   "file_extension": ".py",
   "mimetype": "text/x-python",
   "name": "python",
   "nbconvert_exporter": "python",
   "pygments_lexer": "ipython3",
   "version": "3.7.3"
  }
 },
 "nbformat": 4,
 "nbformat_minor": 4
}
